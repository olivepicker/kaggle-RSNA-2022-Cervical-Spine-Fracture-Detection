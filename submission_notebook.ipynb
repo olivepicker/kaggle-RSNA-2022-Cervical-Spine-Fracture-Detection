{
 "cells": [
  {
   "attachments": {},
   "cell_type": "markdown",
   "id": "80e70960",
   "metadata": {},
   "source": [
    "## Imports"
   ]
  },
  {
   "cell_type": "code",
   "execution_count": null,
   "id": "1732adf9",
   "metadata": {
    "execution": {
     "iopub.execute_input": "2022-10-27T02:54:09.119177Z",
     "iopub.status.busy": "2022-10-27T02:54:09.118418Z",
     "iopub.status.idle": "2022-10-27T02:56:00.278966Z",
     "shell.execute_reply": "2022-10-27T02:56:00.277800Z"
    },
    "papermill": {
     "duration": 111.177212,
     "end_time": "2022-10-27T02:56:00.281746",
     "exception": false,
     "start_time": "2022-10-27T02:54:09.104534",
     "status": "completed"
    },
    "pycharm": {
     "name": "#%%\n"
    },
    "tags": []
   },
   "outputs": [],
   "source": [
    "try:\n",
    "    import pylibjpeg\n",
    "except:\n",
    "    # Offline dependencies:\n",
    "    !mkdir -p /root/.cache/torch/hub/checkpoints/\n",
    "    !cp ../input/rsna-2022-whl/efficientnet_v2_s-dd5fe13b.pth  /root/.cache/torch/hub/checkpoints/\n",
    "\n",
    "    !pip install /kaggle/input/rsna-2022-whl/{pydicom-2.3.0-py3-none-any.whl,pylibjpeg-1.4.0-py3-none-any.whl,python_gdcm-3.0.15-cp37-cp37m-manylinux_2_17_x86_64.manylinux2014_x86_64.whl}\n",
    "    !pip install /kaggle/input/rsna-2022-whl/{torch-1.12.1-cp37-cp37m-manylinux1_x86_64.whl,torchvision-0.13.1-cp37-cp37m-manylinux1_x86_64.whl}"
   ]
  },
  {
   "cell_type": "code",
   "execution_count": 3,
   "id": "9b2e3fa8",
   "metadata": {
    "execution": {
     "iopub.execute_input": "2022-10-27T02:56:05.702944Z",
     "iopub.status.busy": "2022-10-27T02:56:05.702324Z",
     "iopub.status.idle": "2022-10-27T02:56:06.862886Z",
     "shell.execute_reply": "2022-10-27T02:56:06.861960Z"
    },
    "papermill": {
     "duration": 1.17228,
     "end_time": "2022-10-27T02:56:06.865363",
     "exception": false,
     "start_time": "2022-10-27T02:56:05.693083",
     "status": "completed"
    },
    "pycharm": {
     "name": "#%%\n"
    },
    "tags": []
   },
   "outputs": [],
   "source": [
    "import glob\n",
    "import os\n",
    "import re\n",
    "import sys\n",
    "import cv2\n",
    "import matplotlib.pyplot as plt\n",
    "\n",
    "import numpy as np\n",
    "import pandas as pd\n",
    "import pydicom\n",
    "import torch\n",
    "\n",
    "from torchvision.models.feature_extraction import create_feature_extractor\n",
    "from tqdm.notebook import tqdm\n",
    "from torch.utils.data import Dataset, DataLoader\n",
    "from torch import nn\n",
    "import albumentations\n",
    "\n",
    "sys.path.append('../input/timm-pytorch-image-models/pytorch-image-models-master/')\n",
    "sys.path.append('../input/pretrained-models-pytorch/pretrained-models.pytorch-master')\n",
    "sys.path.append('../input/efficientnet-pytorch/EfficientNet-PyTorch/EfficientNet-PyTorch-master')\n",
    "from efficientnet_pytorch import EfficientNet\n",
    "from pretrainedmodels import se_resnext101_32x4d\n",
    "from skimage.filters import threshold_otsu\n",
    "from skimage.morphology import remove_small_objects\n",
    "\n",
    "RSNA_2022_PATH = '../input/rsna-2022-cervical-spine-fracture-detection'\n",
    "TRAIN_IMAGES_PATH = f'{RSNA_2022_PATH}/train_images'\n",
    "TEST_IMAGES_PATH = f'{RSNA_2022_PATH}/test_images'\n",
    "CONVNEXT_CHECKPOINTS_PATH = '../input/rsna-models/convnext_384'\n",
    "IMAGE_SIZE = 512\n",
    "MODEL_NAMES = [f'convnext-f{i}' for i in range(2,3)]\n",
    "FRAC_COLS = [f'C{i}_frac' for i in range(1, 8)]\n",
    "VERT_COLS = [f'C{i}_vert' for i in range(1, 8)]\n",
    "\n",
    "try:\n",
    "    from kaggle_secrets import UserSecretsClient\n",
    "    IS_KAGGLE = True\n",
    "except:\n",
    "    IS_KAGGLE = False\n",
    "\n",
    "DEVICE = 'cuda' if torch.cuda.is_available() else 'cpu'\n",
    "\n",
    "BATCH_SIZE = 32\n"
   ]
  },
  {
   "attachments": {},
   "cell_type": "markdown",
   "id": "b64d3ed0",
   "metadata": {},
   "source": [
    "## Prepare Data"
   ]
  },
  {
   "cell_type": "code",
   "execution_count": 4,
   "id": "1b9f19c1",
   "metadata": {
    "execution": {
     "iopub.execute_input": "2022-10-27T02:56:06.882919Z",
     "iopub.status.busy": "2022-10-27T02:56:06.882615Z",
     "iopub.status.idle": "2022-10-27T02:56:06.919142Z",
     "shell.execute_reply": "2022-10-27T02:56:06.918234Z"
    },
    "papermill": {
     "duration": 0.046782,
     "end_time": "2022-10-27T02:56:06.921217",
     "exception": false,
     "start_time": "2022-10-27T02:56:06.874435",
     "status": "completed"
    },
    "pycharm": {
     "name": "#%%\n"
    },
    "tags": []
   },
   "outputs": [
    {
     "data": {
      "text/html": [
       "<div>\n",
       "<style scoped>\n",
       "    .dataframe tbody tr th:only-of-type {\n",
       "        vertical-align: middle;\n",
       "    }\n",
       "\n",
       "    .dataframe tbody tr th {\n",
       "        vertical-align: top;\n",
       "    }\n",
       "\n",
       "    .dataframe thead th {\n",
       "        text-align: right;\n",
       "    }\n",
       "</style>\n",
       "<table border=\"1\" class=\"dataframe\">\n",
       "  <thead>\n",
       "    <tr style=\"text-align: right;\">\n",
       "      <th></th>\n",
       "      <th>row_id</th>\n",
       "      <th>StudyInstanceUID</th>\n",
       "      <th>prediction_type</th>\n",
       "    </tr>\n",
       "  </thead>\n",
       "  <tbody>\n",
       "    <tr>\n",
       "      <th>0</th>\n",
       "      <td>1.2.826.0.1.3680043.22327_C1</td>\n",
       "      <td>1.2.826.0.1.3680043.22327</td>\n",
       "      <td>C1</td>\n",
       "    </tr>\n",
       "    <tr>\n",
       "      <th>1</th>\n",
       "      <td>1.2.826.0.1.3680043.25399_C1</td>\n",
       "      <td>1.2.826.0.1.3680043.25399</td>\n",
       "      <td>C1</td>\n",
       "    </tr>\n",
       "    <tr>\n",
       "      <th>2</th>\n",
       "      <td>1.2.826.0.1.3680043.5876_C1</td>\n",
       "      <td>1.2.826.0.1.3680043.5876</td>\n",
       "      <td>patient_overall</td>\n",
       "    </tr>\n",
       "  </tbody>\n",
       "</table>\n",
       "</div>"
      ],
      "text/plain": [
       "                         row_id           StudyInstanceUID  prediction_type\n",
       "0  1.2.826.0.1.3680043.22327_C1  1.2.826.0.1.3680043.22327               C1\n",
       "1  1.2.826.0.1.3680043.25399_C1  1.2.826.0.1.3680043.25399               C1\n",
       "2   1.2.826.0.1.3680043.5876_C1   1.2.826.0.1.3680043.5876  patient_overall"
      ]
     },
     "execution_count": 4,
     "metadata": {},
     "output_type": "execute_result"
    }
   ],
   "source": [
    "def load_df_test():\n",
    "    df_test = pd.read_csv(f'{RSNA_2022_PATH}/test.csv')\n",
    "\n",
    "    if df_test.iloc[0].row_id == '1.2.826.0.1.3680043.10197_C1':\n",
    "        df_test = pd.DataFrame({\n",
    "            \"row_id\": ['1.2.826.0.1.3680043.22327_C1', '1.2.826.0.1.3680043.25399_C1', '1.2.826.0.1.3680043.5876_C1'],\n",
    "            \"StudyInstanceUID\": ['1.2.826.0.1.3680043.22327', '1.2.826.0.1.3680043.25399', '1.2.826.0.1.3680043.5876'],\n",
    "            \"prediction_type\": [\"C1\", \"C1\", \"patient_overall\"]}\n",
    "        )\n",
    "    return df_test\n",
    "\n",
    "df_test = load_df_test()\n",
    "df_test"
   ]
  },
  {
   "cell_type": "code",
   "execution_count": 5,
   "id": "3841be90",
   "metadata": {
    "execution": {
     "iopub.execute_input": "2022-10-27T02:56:06.937183Z",
     "iopub.status.busy": "2022-10-27T02:56:06.936921Z",
     "iopub.status.idle": "2022-10-27T02:56:07.064341Z",
     "shell.execute_reply": "2022-10-27T02:56:07.063404Z"
    },
    "papermill": {
     "duration": 0.138025,
     "end_time": "2022-10-27T02:56:07.066653",
     "exception": false,
     "start_time": "2022-10-27T02:56:06.928628",
     "status": "completed"
    },
    "tags": []
   },
   "outputs": [],
   "source": [
    "test_slices = glob.glob(f'{TEST_IMAGES_PATH}/*/*')\n",
    "test_slices = {re.findall(f'{TEST_IMAGES_PATH}/(.*)/(.*).dcm', s)[0] for s in test_slices}\n",
    "df_test_slices = pd.DataFrame(data=test_slices, columns=['StudyInstanceUID', 'Slice']).astype({'Slice': int}).sort_values(['StudyInstanceUID', 'Slice']).reset_index(drop=True)\n"
   ]
  },
  {
   "attachments": {},
   "cell_type": "markdown",
   "id": "3a88eba7",
   "metadata": {
    "papermill": {
     "duration": 0.007221,
     "end_time": "2022-10-27T02:56:07.132167",
     "exception": false,
     "start_time": "2022-10-27T02:56:07.124946",
     "status": "completed"
    },
    "tags": []
   },
   "source": [
    "## Bounding Box Prediction"
   ]
  },
  {
   "cell_type": "code",
   "execution_count": 7,
   "id": "4d251162",
   "metadata": {
    "execution": {
     "iopub.execute_input": "2022-10-27T02:56:07.149540Z",
     "iopub.status.busy": "2022-10-27T02:56:07.147985Z",
     "iopub.status.idle": "2022-10-27T02:56:07.154352Z",
     "shell.execute_reply": "2022-10-27T02:56:07.153543Z"
    },
    "papermill": {
     "duration": 0.016536,
     "end_time": "2022-10-27T02:56:07.156231",
     "exception": false,
     "start_time": "2022-10-27T02:56:07.139695",
     "status": "completed"
    },
    "tags": []
   },
   "outputs": [],
   "source": [
    "test_transform = albumentations.Compose([\n",
    "        albumentations.Normalize(mean=(0.456, 0.456, 0.456), std=(0.224, 0.224, 0.224), max_pixel_value=255.0, p=1.0)\n",
    "])"
   ]
  },
  {
   "cell_type": "code",
   "execution_count": 11,
   "id": "169bd54c",
   "metadata": {
    "execution": {
     "iopub.execute_input": "2022-10-27T02:56:07.263776Z",
     "iopub.status.busy": "2022-10-27T02:56:07.263516Z",
     "iopub.status.idle": "2022-10-27T02:56:07.278199Z",
     "shell.execute_reply": "2022-10-27T02:56:07.277379Z"
    },
    "papermill": {
     "duration": 0.024926,
     "end_time": "2022-10-27T02:56:07.280259",
     "exception": false,
     "start_time": "2022-10-27T02:56:07.255333",
     "status": "completed"
    },
    "tags": []
   },
   "outputs": [],
   "source": [
    "def bbox_window(x, WL=50, WW=350):\n",
    "    upper, lower = WL+WW//2, WL-WW//2\n",
    "    x = np.clip(x, lower, upper)\n",
    "    x = x - np.min(x)\n",
    "    x = x / np.max(x)\n",
    "    return x\n",
    "\n",
    "class BboxDataset(torch.utils.data.Dataset):    \n",
    "    def __init__(self, series_list):        \n",
    "        self.series_list = series_list    \n",
    "    def __len__(self):        \n",
    "        return len(self.series_list)    \n",
    "    def __getitem__(self,index):        \n",
    "        return index\n",
    "\n",
    "class BboxCollator(object):\n",
    "    def __init__(self, series_list, df):\n",
    "        self.df = df\n",
    "        self.series_list = series_list\n",
    "        \n",
    "    def _load_dicom_array(self, f):\n",
    "        dicom_files = glob.glob(os.path.join(f, '*.dcm'))\n",
    "        dicoms = [pydicom.dcmread(d) for d in dicom_files]\n",
    "        \n",
    "        M = np.float32(dicoms[0].RescaleSlope)\n",
    "        B = np.float32(dicoms[0].RescaleIntercept)\n",
    "        \n",
    "        z_pos = [float(d.ImagePositionPatient[-1]) for d in dicoms]\n",
    "        sorted_idx = np.argsort(z_pos)\n",
    "        dicom_files = np.asarray(dicom_files)[sorted_idx]\n",
    "        dicoms = np.asarray(dicoms)[sorted_idx]\n",
    "        \n",
    "        selected_idx = [int(0.3*len(dicom_files)), int(0.4*len(dicom_files)), int(0.5*len(dicom_files)), int(0.6*len(dicom_files))]\n",
    "        selected_dicom_files = dicom_files[selected_idx]\n",
    "        selected_dicoms = dicoms[selected_idx]\n",
    "        \n",
    "        dicoms = np.asarray([d.pixel_array.astype(np.float32) for d in selected_dicoms])\n",
    "        dicoms = dicoms * M # RescaleSlope\n",
    "        dicoms = dicoms + B # RescaleIntercept\n",
    "        dicoms = bbox_window(dicoms, WL=400, WW=650)\n",
    "        \n",
    "        th = threshold_otsu(dicoms)\n",
    "        \n",
    "        dicoms = dicoms >=th\n",
    "        dicoms = remove_small_objects(dicoms, 10)\n",
    "        return dicoms, dicom_files, selected_dicom_files\n",
    "    \n",
    "    def __call__(self, batch_idx):\n",
    "        series_dir = '../input/rsna-2022-cervical-spine-fracture-detection/test_images/'+self.df['StudyInstanceUID'].values[batch_idx] + \"/\"\n",
    "        dicoms, dicom_files, selected_dicom_files = self._load_dicom_array(series_dir[0])\n",
    "        \n",
    "        image_list = []\n",
    "        for i in range(len(dicom_files)):\n",
    "            name = self.df['StudyInstanceUID'].values[batch_idx]\n",
    "            image_list.append(name[0])\n",
    "        selected_image_list = []\n",
    "        \n",
    "        for i in range(len(selected_dicom_files)):\n",
    "            name = self.df['StudyInstanceUID'].values[batch_idx]\n",
    "            selected_image_list.append(name[0])\n",
    "            \n",
    "        x = np.zeros((4, 3, dicoms.shape[1], dicoms.shape[2]), dtype=np.float32)\n",
    "        \n",
    "        for i in range(4):\n",
    "            x[i,0] = dicoms[i]\n",
    "            x[i,1] = dicoms[i]\n",
    "            x[i,2] = dicoms[i]\n",
    "        return torch.from_numpy(x), image_list, selected_image_list, self.series_list[batch_idx[0]]"
   ]
  },
  {
   "cell_type": "code",
   "execution_count": 12,
   "id": "044170a1",
   "metadata": {
    "execution": {
     "iopub.execute_input": "2022-10-27T02:56:07.297066Z",
     "iopub.status.busy": "2022-10-27T02:56:07.295702Z",
     "iopub.status.idle": "2022-10-27T02:56:07.301974Z",
     "shell.execute_reply": "2022-10-27T02:56:07.301150Z"
    },
    "papermill": {
     "duration": 0.016285,
     "end_time": "2022-10-27T02:56:07.303919",
     "exception": false,
     "start_time": "2022-10-27T02:56:07.287634",
     "status": "completed"
    },
    "tags": []
   },
   "outputs": [],
   "source": [
    "class efficientnet(nn.Module):\n",
    "    def __init__(self ):\n",
    "        super().__init__()\n",
    "        self.net = EfficientNet.from_name('efficientnet-b0')\n",
    "        in_features = self.net._fc.in_features\n",
    "        self.last_linear = nn.Linear(in_features, 4)\n",
    "    def forward(self, x):\n",
    "        x = self.net.extract_features(x)\n",
    "        x = self.net._avg_pooling(x)\n",
    "        x = x.view(x.size(0), -1)\n",
    "        x = self.last_linear(x)\n",
    "        return x"
   ]
  },
  {
   "cell_type": "code",
   "execution_count": null,
   "id": "c8914cf0",
   "metadata": {
    "execution": {
     "iopub.execute_input": "2022-10-27T02:56:07.320086Z",
     "iopub.status.busy": "2022-10-27T02:56:07.319467Z",
     "iopub.status.idle": "2022-10-27T02:56:18.133156Z",
     "shell.execute_reply": "2022-10-27T02:56:18.132156Z"
    },
    "papermill": {
     "duration": 10.824089,
     "end_time": "2022-10-27T02:56:18.135370",
     "exception": false,
     "start_time": "2022-10-27T02:56:07.311281",
     "status": "completed"
    },
    "tags": []
   },
   "outputs": [],
   "source": [
    "bbox_image_id_list = df_test['StudyInstanceUID'].values\n",
    "model = efficientnet()\n",
    "print(model.load_state_dict(torch.load('../input/rsna-models/epoch29')))\n",
    "model = model.cuda()\n",
    "model.eval()\n",
    "\n",
    "pred_bbox = np.zeros((len(bbox_image_id_list)*4,4),dtype=np.float32)\n",
    "bbox_csv= pd.DataFrame()\n",
    "\n",
    "selected_image_list_valid = {}\n",
    "datagen = BboxDataset(series_list=bbox_image_id_list)\n",
    "collate_fn = BboxCollator(series_list=bbox_image_id_list, df=df_test)\n",
    "generator = DataLoader(dataset=datagen, collate_fn=collate_fn, batch_size=1, shuffle=False, num_workers=2, pin_memory=True)\n",
    "total_steps = len(generator)\n",
    "\n",
    "\n",
    "# Predict Bounding Boxes\n",
    "for i, (images, image_list, selected_image_list, series_id) in tqdm(enumerate(generator), total=total_steps):\n",
    "    with torch.no_grad():\n",
    "        start = i*4\n",
    "        end = start+4\n",
    "        if i == len(generator)-1:\n",
    "            end = len(generator.dataset)*4\n",
    "        images = images.cuda()\n",
    "        res = images.shape[2]\n",
    "        logits = model(images)\n",
    "        bbox = np.squeeze(logits.cpu().data.numpy())\n",
    "        pred_bbox[start:end] = bbox\n",
    "        \n",
    "        xmin = np.round(min([bbox[0,0], bbox[1,0], bbox[2,0], bbox[3,0]])*res)\n",
    "        ymin = np.round(min([bbox[0,1], bbox[1,1], bbox[2,1], bbox[3,1]])*res)\n",
    "        xmax = np.round(max([bbox[0,2], bbox[1,2], bbox[2,2], bbox[3,2]])*res)\n",
    "        ymax = np.round(max([bbox[0,3], bbox[1,3], bbox[2,3], bbox[3,3]])*res)\n",
    "        selected_image_list_valid[str(series_id)] = {'xmin':max(0, xmin/res), 'ymin' : max(0, ymin/res), 'xmax' : min(1.0, xmax/res), 'ymax' : min(1.0, ymax/res)}"
   ]
  },
  {
   "attachments": {},
   "cell_type": "markdown",
   "id": "18c0cd47",
   "metadata": {},
   "source": [
    "## Image Level Prediction"
   ]
  },
  {
   "cell_type": "code",
   "execution_count": 15,
   "id": "b02a0da4",
   "metadata": {
    "execution": {
     "iopub.execute_input": "2022-10-27T02:56:18.189151Z",
     "iopub.status.busy": "2022-10-27T02:56:18.188890Z",
     "iopub.status.idle": "2022-10-27T02:56:18.196450Z",
     "shell.execute_reply": "2022-10-27T02:56:18.195589Z"
    },
    "papermill": {
     "duration": 0.017828,
     "end_time": "2022-10-27T02:56:18.198412",
     "exception": false,
     "start_time": "2022-10-27T02:56:18.180584",
     "status": "completed"
    },
    "pycharm": {
     "name": "#%%\n"
    },
    "tags": []
   },
   "outputs": [],
   "source": [
    "class seresnext101(nn.Module):\n",
    "    def __init__(self ):\n",
    "        super().__init__()\n",
    "        self.net = se_resnext101_32x4d(num_classes=1000, pretrained=None)\n",
    "        self.avg_pool = nn.AdaptiveAvgPool2d(1)\n",
    "        in_features = self.net.last_linear.in_features\n",
    "        self.last_linear = nn.Linear(in_features, 7)\n",
    "        self.nn_fracture = torch.nn.Sequential(\n",
    "            torch.nn.Linear(2048, 7),\n",
    "        )\n",
    "        self.nn_vertebrae = torch.nn.Sequential(\n",
    "            torch.nn.Linear(2048, 7),\n",
    "        )\n",
    "    def forward(self, x):\n",
    "        x = self.net.features(x)\n",
    "        x = self.avg_pool(x)\n",
    "        feature = x.view(x.size(0), -1)\n",
    "        return self.nn_fracture(feature), self.nn_vertebrae(feature)\n",
    "    \n",
    "    def predict(self, x):\n",
    "        frac, vert = self.forward(x)\n",
    "        return torch.sigmoid(frac), torch.sigmoid(vert)"
   ]
  },
  {
   "cell_type": "code",
   "execution_count": 16,
   "id": "7ba0ae99",
   "metadata": {
    "execution": {
     "iopub.execute_input": "2022-10-27T02:56:18.214398Z",
     "iopub.status.busy": "2022-10-27T02:56:18.214151Z",
     "iopub.status.idle": "2022-10-27T02:56:18.218491Z",
     "shell.execute_reply": "2022-10-27T02:56:18.217636Z"
    },
    "papermill": {
     "duration": 0.014494,
     "end_time": "2022-10-27T02:56:18.220428",
     "exception": false,
     "start_time": "2022-10-27T02:56:18.205934",
     "status": "completed"
    },
    "pycharm": {
     "name": "#%%\n"
    },
    "tags": []
   },
   "outputs": [],
   "source": [
    "def load_model(model, name, path='.'):\n",
    "    data = torch.load(os.path.join(path, f'{name}.tph'), map_location=DEVICE)\n",
    "    print(model.load_state_dict(data))\n",
    "    return model"
   ]
  },
  {
   "cell_type": "code",
   "execution_count": null,
   "id": "4430ba61",
   "metadata": {},
   "outputs": [],
   "source": [
    "def window(name, img, WL=950, WW=1900):\n",
    "    upper, lower = WL+WW//2, WL-WW//2\n",
    "    X = np.clip(img.copy(), lower, upper)\n",
    "    X = X - np.min(X)\n",
    "    X = X / np.max(X)\n",
    "    X = (X*255.0).astype('uint8')\n",
    "    \n",
    "    return X\n",
    "\n",
    "class RSNADataset(torch.utils.data.Dataset):\n",
    "    def __init__(self, df, bbox_dict, image_size,  transform):\n",
    "        self.df = df\n",
    "        self.bbox_dict=bbox_dict\n",
    "        self.image_size=image_size\n",
    "        self.transform=transform\n",
    "        \n",
    "    def __len__(self):\n",
    "        return self.df.shape[0]\n",
    "    \n",
    "    def __getitem__(self,index):\n",
    "        \n",
    "        study_id = self.df['StudyInstanceUID'][index]\n",
    "        series_id = self.df['Slice'].values[index]\n",
    "        \n",
    "        data1 = pydicom.dcmread('../input/rsna-2022-cervical-spine-fracture-detection/test_images/'+ str(study_id)+ f'/{int(series_id)}' + '.dcm')\n",
    "    \n",
    "        x1 = data1.pixel_array\n",
    "        res = x1.shape[1]\n",
    "        x1c = x1*data1.RescaleSlope+data1.RescaleIntercept\n",
    "\n",
    "        # Windowing values are referenced in this document https://arxiv.org/abs/2010.13336\n",
    "        x1 = np.expand_dims(window(study_id, x1c, WL=500, WW=1800), axis=2)\n",
    "        x2 = np.expand_dims(window(study_id, x1c, WL=400, WW=650), axis=2)\n",
    "        x3 = np.expand_dims(window(study_id, x1c, WL=80, WW=300), axis=2)\n",
    "        \n",
    "        # threshold_otsu, remove_small_objects for 'Bone' channel\n",
    "        th = threshold_otsu(x2) \n",
    "        x2 = x2>=th\n",
    "        x2 = remove_small_objects(x2, 10)\n",
    "        x = np.concatenate([x1, x2, x3], axis=2)\n",
    "\n",
    "        bbox = self.bbox_dict[study_id]\n",
    "        \n",
    "        # Predicted Bounding Boxes are expanded by 20%\n",
    "        x = x[int(max(0, bbox['ymin']*res*0.8)):int(min(res, bbox['ymax']*res*1.2)),int(max(0, bbox['xmin']*res*0.8)):int(min(res, bbox['xmax']*res*1.2)),:]        \n",
    "\n",
    "        x = cv2.resize(x, (self.image_size,self.image_size))\n",
    "        x = self.transform(image=x)['image']\n",
    "        x = x.transpose(2, 0, 1)\n",
    "        \n",
    "        # Model has two heads, predicting position of fracture and vertebrae\n",
    "        if 'C1_fracture' in self.df:\n",
    "            frac_targets = torch.as_tensor(self.df.iloc[index][['C1_fracture', 'C2_fracture', 'C3_fracture', 'C4_fracture',\n",
    "                                                            'C5_fracture', 'C6_fracture', 'C7_fracture']].astype('float32').values)\n",
    "            vert_targets = torch.as_tensor(self.df.iloc[index][['C1', 'C2', 'C3', 'C4', 'C5', 'C6', 'C7']].astype('float32').values)\n",
    "            \n",
    "            # only enable targets are visible on the current slice\n",
    "            frac_targets = frac_targets * vert_targets  \n",
    "            return x, frac_targets, vert_targets\n",
    "        return x"
   ]
  },
  {
   "attachments": {},
   "cell_type": "markdown",
   "id": "e6b551de",
   "metadata": {},
   "source": [
    "## Inference"
   ]
  },
  {
   "cell_type": "code",
   "execution_count": 18,
   "id": "4faa7156",
   "metadata": {
    "execution": {
     "iopub.execute_input": "2022-10-27T02:56:18.258143Z",
     "iopub.status.busy": "2022-10-27T02:56:18.257896Z",
     "iopub.status.idle": "2022-10-27T02:56:20.922335Z",
     "shell.execute_reply": "2022-10-27T02:56:20.921365Z"
    },
    "papermill": {
     "duration": 2.674917,
     "end_time": "2022-10-27T02:56:20.924631",
     "exception": false,
     "start_time": "2022-10-27T02:56:18.249714",
     "status": "completed"
    },
    "pycharm": {
     "name": "#%%\n"
    },
    "tags": []
   },
   "outputs": [],
   "source": [
    "ds_test = RSNADataset(df_test_slices, selected_image_list_valid, IMAGE_SIZE, test_transform)\n",
    "models = []\n",
    "model = seresnext101()\n",
    "model.load_state_dict(torch.load('../input/rsna-models/seresnext1010_22234full_otsu.tph', map_location = DEVICE))\n",
    "models.append(model.cuda())"
   ]
  },
  {
   "cell_type": "code",
   "execution_count": 19,
   "id": "1049cd29",
   "metadata": {
    "collapsed": false,
    "execution": {
     "iopub.execute_input": "2022-10-27T02:56:20.956383Z",
     "iopub.status.busy": "2022-10-27T02:56:20.956081Z",
     "iopub.status.idle": "2022-10-27T02:56:20.963409Z",
     "shell.execute_reply": "2022-10-27T02:56:20.962500Z"
    },
    "jupyter": {
     "outputs_hidden": false
    },
    "papermill": {
     "duration": 0.018069,
     "end_time": "2022-10-27T02:56:20.965543",
     "exception": false,
     "start_time": "2022-10-27T02:56:20.947474",
     "status": "completed"
    },
    "pycharm": {
     "name": "#%%\n"
    },
    "tags": []
   },
   "outputs": [],
   "source": [
    "from typing import List\n",
    "\n",
    "def predict_net(models, ds):\n",
    "    dl_test = torch.utils.data.DataLoader(ds, \n",
    "                                          batch_size=BATCH_SIZE, \n",
    "                                          shuffle=False, \n",
    "                                          num_workers=2, \n",
    "                                          pin_memory = True)\n",
    "    \n",
    "    for m in models:\n",
    "        m.eval()\n",
    "\n",
    "    with torch.no_grad():\n",
    "        predictions = []\n",
    "        for idx, X in enumerate(dl_test):\n",
    "            pred = torch.zeros(len(X), 14).to(DEVICE)\n",
    "            for m in models:\n",
    "                y1, y2 = m.predict(X.float().to(DEVICE)) # self.nn_fracture(feature), self.nn_vertebrae(feature)\n",
    "                pred += torch.concat([y1, y2], dim=1) / len(models)\n",
    "            predictions.append(pred)\n",
    "        return torch.concat(predictions).cpu().numpy()"
   ]
  },
  {
   "cell_type": "code",
   "execution_count": 20,
   "id": "58758ac1",
   "metadata": {
    "execution": {
     "iopub.execute_input": "2022-10-27T02:56:20.981708Z",
     "iopub.status.busy": "2022-10-27T02:56:20.981443Z",
     "iopub.status.idle": "2022-10-27T02:57:03.351011Z",
     "shell.execute_reply": "2022-10-27T02:57:03.349821Z"
    },
    "papermill": {
     "duration": 42.380622,
     "end_time": "2022-10-27T02:57:03.353795",
     "exception": false,
     "start_time": "2022-10-27T02:56:20.973173",
     "status": "completed"
    },
    "pycharm": {
     "name": "#%%\n"
    },
    "tags": []
   },
   "outputs": [],
   "source": [
    "predicted = predict_net(models, ds_test)\n",
    "predicted_df = pd.DataFrame(\n",
    "    data=predicted, columns=[f'C{i}_frac' for i in range(1, 8)] + [f'C{i}_vert' for i in range(1, 8)]\n",
    ")"
   ]
  },
  {
   "cell_type": "code",
   "execution_count": null,
   "id": "a6a64c5e",
   "metadata": {
    "execution": {
     "iopub.execute_input": "2022-10-27T02:57:03.371351Z",
     "iopub.status.busy": "2022-10-27T02:57:03.371023Z",
     "iopub.status.idle": "2022-10-27T02:57:03.412022Z",
     "shell.execute_reply": "2022-10-27T02:57:03.410976Z"
    },
    "papermill": {
     "duration": 0.052687,
     "end_time": "2022-10-27T02:57:03.414782",
     "exception": false,
     "start_time": "2022-10-27T02:57:03.362095",
     "status": "completed"
    },
    "pycharm": {
     "name": "#%%\n"
    },
    "tags": []
   },
   "outputs": [],
   "source": [
    "df_test_pred = pd.concat([df_test_slices, predicted_df], axis=1).sort_values(['StudyInstanceUID', 'Slice'])\n",
    "df_test_pred"
   ]
  },
  {
   "cell_type": "code",
   "execution_count": 22,
   "id": "a8f8b3d8",
   "metadata": {
    "collapsed": false,
    "execution": {
     "iopub.execute_input": "2022-10-27T02:57:03.432159Z",
     "iopub.status.busy": "2022-10-27T02:57:03.431873Z",
     "iopub.status.idle": "2022-10-27T02:57:03.458737Z",
     "shell.execute_reply": "2022-10-27T02:57:03.457741Z"
    },
    "jupyter": {
     "outputs_hidden": false
    },
    "papermill": {
     "duration": 0.038088,
     "end_time": "2022-10-27T02:57:03.460907",
     "exception": false,
     "start_time": "2022-10-27T02:57:03.422819",
     "status": "completed"
    },
    "pycharm": {
     "name": "#%%\n"
    },
    "tags": []
   },
   "outputs": [
    {
     "data": {
      "text/html": [
       "<div>\n",
       "<style scoped>\n",
       "    .dataframe tbody tr th:only-of-type {\n",
       "        vertical-align: middle;\n",
       "    }\n",
       "\n",
       "    .dataframe tbody tr th {\n",
       "        vertical-align: top;\n",
       "    }\n",
       "\n",
       "    .dataframe thead th {\n",
       "        text-align: right;\n",
       "    }\n",
       "</style>\n",
       "<table border=\"1\" class=\"dataframe\">\n",
       "  <thead>\n",
       "    <tr style=\"text-align: right;\">\n",
       "      <th></th>\n",
       "      <th>patient_overall</th>\n",
       "      <th>C1</th>\n",
       "      <th>C2</th>\n",
       "      <th>C3</th>\n",
       "      <th>C4</th>\n",
       "      <th>C5</th>\n",
       "      <th>C6</th>\n",
       "      <th>C7</th>\n",
       "    </tr>\n",
       "    <tr>\n",
       "      <th>StudyInstanceUID</th>\n",
       "      <th></th>\n",
       "      <th></th>\n",
       "      <th></th>\n",
       "      <th></th>\n",
       "      <th></th>\n",
       "      <th></th>\n",
       "      <th></th>\n",
       "      <th></th>\n",
       "    </tr>\n",
       "  </thead>\n",
       "  <tbody>\n",
       "    <tr>\n",
       "      <th>1.2.826.0.1.3680043.22327</th>\n",
       "      <td>0.349046</td>\n",
       "      <td>0.058591</td>\n",
       "      <td>0.069128</td>\n",
       "      <td>0.022744</td>\n",
       "      <td>0.014510</td>\n",
       "      <td>0.013225</td>\n",
       "      <td>0.051244</td>\n",
       "      <td>0.176148</td>\n",
       "    </tr>\n",
       "    <tr>\n",
       "      <th>1.2.826.0.1.3680043.25399</th>\n",
       "      <td>0.239549</td>\n",
       "      <td>0.035188</td>\n",
       "      <td>0.002994</td>\n",
       "      <td>0.018086</td>\n",
       "      <td>0.016377</td>\n",
       "      <td>0.007316</td>\n",
       "      <td>0.106921</td>\n",
       "      <td>0.076731</td>\n",
       "    </tr>\n",
       "    <tr>\n",
       "      <th>1.2.826.0.1.3680043.5876</th>\n",
       "      <td>0.344666</td>\n",
       "      <td>0.047372</td>\n",
       "      <td>0.217216</td>\n",
       "      <td>0.007969</td>\n",
       "      <td>0.005617</td>\n",
       "      <td>0.008373</td>\n",
       "      <td>0.018365</td>\n",
       "      <td>0.084791</td>\n",
       "    </tr>\n",
       "  </tbody>\n",
       "</table>\n",
       "</div>"
      ],
      "text/plain": [
       "                           patient_overall        C1        C2        C3  \\\n",
       "StudyInstanceUID                                                           \n",
       "1.2.826.0.1.3680043.22327         0.349046  0.058591  0.069128  0.022744   \n",
       "1.2.826.0.1.3680043.25399         0.239549  0.035188  0.002994  0.018086   \n",
       "1.2.826.0.1.3680043.5876          0.344666  0.047372  0.217216  0.007969   \n",
       "\n",
       "                                 C4        C5        C6        C7  \n",
       "StudyInstanceUID                                                   \n",
       "1.2.826.0.1.3680043.22327  0.014510  0.013225  0.051244  0.176148  \n",
       "1.2.826.0.1.3680043.25399  0.016377  0.007316  0.106921  0.076731  \n",
       "1.2.826.0.1.3680043.5876   0.005617  0.008373  0.018365  0.084791  "
      ]
     },
     "execution_count": 22,
     "metadata": {},
     "output_type": "execute_result"
    }
   ],
   "source": [
    "# Weighted averaging of each patient to get the probability of fracture position in each vertebrae\n",
    "\n",
    "def patient_prediction(df):\n",
    "    c1c7 = np.average(df[FRAC_COLS].values, axis=0, weights=df[VERT_COLS].values)\n",
    "    pred_patient_overall = 1 - np.prod(1 - c1c7)\n",
    "    return pd.Series(data=np.concatenate([[pred_patient_overall], c1c7]), index=['patient_overall'] + [f'C{i}' for i in range(1, 8)])\n",
    "\n",
    "df_patient_pred = df_test_pred.groupby('StudyInstanceUID').apply(lambda df: patient_prediction(df))\n",
    "df_patient_pred"
   ]
  },
  {
   "attachments": {},
   "cell_type": "markdown",
   "id": "43d30b74",
   "metadata": {},
   "source": [
    "## Submissions"
   ]
  },
  {
   "cell_type": "code",
   "execution_count": 23,
   "id": "bbae84bc",
   "metadata": {
    "collapsed": false,
    "execution": {
     "iopub.execute_input": "2022-10-27T02:57:03.478131Z",
     "iopub.status.busy": "2022-10-27T02:57:03.477866Z",
     "iopub.status.idle": "2022-10-27T02:57:03.498143Z",
     "shell.execute_reply": "2022-10-27T02:57:03.497270Z"
    },
    "jupyter": {
     "outputs_hidden": false
    },
    "papermill": {
     "duration": 0.031061,
     "end_time": "2022-10-27T02:57:03.500051",
     "exception": false,
     "start_time": "2022-10-27T02:57:03.468990",
     "status": "completed"
    },
    "pycharm": {
     "name": "#%%\n"
    },
    "tags": []
   },
   "outputs": [
    {
     "data": {
      "text/html": [
       "<div>\n",
       "<style scoped>\n",
       "    .dataframe tbody tr th:only-of-type {\n",
       "        vertical-align: middle;\n",
       "    }\n",
       "\n",
       "    .dataframe tbody tr th {\n",
       "        vertical-align: top;\n",
       "    }\n",
       "\n",
       "    .dataframe thead th {\n",
       "        text-align: right;\n",
       "    }\n",
       "</style>\n",
       "<table border=\"1\" class=\"dataframe\">\n",
       "  <thead>\n",
       "    <tr style=\"text-align: right;\">\n",
       "      <th></th>\n",
       "      <th>row_id</th>\n",
       "      <th>prediction_type</th>\n",
       "      <th>patient_overall</th>\n",
       "      <th>C1</th>\n",
       "      <th>C2</th>\n",
       "      <th>C3</th>\n",
       "      <th>C4</th>\n",
       "      <th>C5</th>\n",
       "      <th>C6</th>\n",
       "      <th>C7</th>\n",
       "      <th>fractured</th>\n",
       "    </tr>\n",
       "    <tr>\n",
       "      <th>StudyInstanceUID</th>\n",
       "      <th></th>\n",
       "      <th></th>\n",
       "      <th></th>\n",
       "      <th></th>\n",
       "      <th></th>\n",
       "      <th></th>\n",
       "      <th></th>\n",
       "      <th></th>\n",
       "      <th></th>\n",
       "      <th></th>\n",
       "      <th></th>\n",
       "    </tr>\n",
       "  </thead>\n",
       "  <tbody>\n",
       "    <tr>\n",
       "      <th>1.2.826.0.1.3680043.22327</th>\n",
       "      <td>1.2.826.0.1.3680043.22327_C1</td>\n",
       "      <td>C1</td>\n",
       "      <td>0.349046</td>\n",
       "      <td>0.058591</td>\n",
       "      <td>0.069128</td>\n",
       "      <td>0.022744</td>\n",
       "      <td>0.014510</td>\n",
       "      <td>0.013225</td>\n",
       "      <td>0.051244</td>\n",
       "      <td>0.176148</td>\n",
       "      <td>0.058591</td>\n",
       "    </tr>\n",
       "    <tr>\n",
       "      <th>1.2.826.0.1.3680043.25399</th>\n",
       "      <td>1.2.826.0.1.3680043.25399_C1</td>\n",
       "      <td>C1</td>\n",
       "      <td>0.239549</td>\n",
       "      <td>0.035188</td>\n",
       "      <td>0.002994</td>\n",
       "      <td>0.018086</td>\n",
       "      <td>0.016377</td>\n",
       "      <td>0.007316</td>\n",
       "      <td>0.106921</td>\n",
       "      <td>0.076731</td>\n",
       "      <td>0.035188</td>\n",
       "    </tr>\n",
       "    <tr>\n",
       "      <th>1.2.826.0.1.3680043.5876</th>\n",
       "      <td>1.2.826.0.1.3680043.5876_C1</td>\n",
       "      <td>patient_overall</td>\n",
       "      <td>0.344666</td>\n",
       "      <td>0.047372</td>\n",
       "      <td>0.217216</td>\n",
       "      <td>0.007969</td>\n",
       "      <td>0.005617</td>\n",
       "      <td>0.008373</td>\n",
       "      <td>0.018365</td>\n",
       "      <td>0.084791</td>\n",
       "      <td>0.344666</td>\n",
       "    </tr>\n",
       "  </tbody>\n",
       "</table>\n",
       "</div>"
      ],
      "text/plain": [
       "                                                 row_id  prediction_type  \\\n",
       "StudyInstanceUID                                                           \n",
       "1.2.826.0.1.3680043.22327  1.2.826.0.1.3680043.22327_C1               C1   \n",
       "1.2.826.0.1.3680043.25399  1.2.826.0.1.3680043.25399_C1               C1   \n",
       "1.2.826.0.1.3680043.5876    1.2.826.0.1.3680043.5876_C1  patient_overall   \n",
       "\n",
       "                           patient_overall        C1        C2        C3  \\\n",
       "StudyInstanceUID                                                           \n",
       "1.2.826.0.1.3680043.22327         0.349046  0.058591  0.069128  0.022744   \n",
       "1.2.826.0.1.3680043.25399         0.239549  0.035188  0.002994  0.018086   \n",
       "1.2.826.0.1.3680043.5876          0.344666  0.047372  0.217216  0.007969   \n",
       "\n",
       "                                 C4        C5        C6        C7  fractured  \n",
       "StudyInstanceUID                                                              \n",
       "1.2.826.0.1.3680043.22327  0.014510  0.013225  0.051244  0.176148   0.058591  \n",
       "1.2.826.0.1.3680043.25399  0.016377  0.007316  0.106921  0.076731   0.035188  \n",
       "1.2.826.0.1.3680043.5876   0.005617  0.008373  0.018365  0.084791   0.344666  "
      ]
     },
     "execution_count": 23,
     "metadata": {},
     "output_type": "execute_result"
    }
   ],
   "source": [
    "df_sub = df_test.copy()\n",
    "df_sub = df_sub.set_index('StudyInstanceUID').join(df_patient_pred)\n",
    "df_sub['fractured'] = df_sub.apply(lambda r: r[r.prediction_type], axis=1)\n",
    "df_sub"
   ]
  },
  {
   "cell_type": "code",
   "execution_count": 24,
   "id": "cd0e1034",
   "metadata": {
    "execution": {
     "iopub.execute_input": "2022-10-27T02:57:03.518151Z",
     "iopub.status.busy": "2022-10-27T02:57:03.517293Z",
     "iopub.status.idle": "2022-10-27T02:57:03.526199Z",
     "shell.execute_reply": "2022-10-27T02:57:03.525342Z"
    },
    "papermill": {
     "duration": 0.020086,
     "end_time": "2022-10-27T02:57:03.528365",
     "exception": false,
     "start_time": "2022-10-27T02:57:03.508279",
     "status": "completed"
    },
    "pycharm": {
     "name": "#%%\n"
    },
    "tags": []
   },
   "outputs": [],
   "source": [
    "df_sub[['row_id', 'fractured']].to_csv('submission.csv', index=False)"
   ]
  }
 ],
 "metadata": {
  "kernelspec": {
   "display_name": "Python 3",
   "language": "python",
   "name": "python3"
  },
  "language_info": {
   "codemirror_mode": {
    "name": "ipython",
    "version": 3
   },
   "file_extension": ".py",
   "mimetype": "text/x-python",
   "name": "python",
   "nbconvert_exporter": "python",
   "pygments_lexer": "ipython3",
   "version": "3.9.13"
  },
  "papermill": {
   "default_parameters": {},
   "duration": 184.308029,
   "end_time": "2022-10-27T02:57:05.819395",
   "environment_variables": {},
   "exception": null,
   "input_path": "__notebook__.ipynb",
   "output_path": "__notebook__.ipynb",
   "parameters": {},
   "start_time": "2022-10-27T02:54:01.511366",
   "version": "2.3.4"
  },
  "widgets": {
   "application/vnd.jupyter.widget-state+json": {
    "state": {
     "129426f2384b46d2b6a8c6e21817096b": {
      "model_module": "@jupyter-widgets/controls",
      "model_module_version": "1.5.0",
      "model_name": "HTMLModel",
      "state": {
       "_dom_classes": [],
       "_model_module": "@jupyter-widgets/controls",
       "_model_module_version": "1.5.0",
       "_model_name": "HTMLModel",
       "_view_count": null,
       "_view_module": "@jupyter-widgets/controls",
       "_view_module_version": "1.5.0",
       "_view_name": "HTMLView",
       "description": "",
       "description_tooltip": null,
       "layout": "IPY_MODEL_27376df1e4684918b708f54f3b60aea8",
       "placeholder": "​",
       "style": "IPY_MODEL_a9b4a8c9a904473d8bac0fc1e8e84fc7",
       "value": " 3/3 [00:08&lt;00:00,  2.63s/it]"
      }
     },
     "2013df3c586b46a3a08d28fab4b1af4b": {
      "model_module": "@jupyter-widgets/base",
      "model_module_version": "1.2.0",
      "model_name": "LayoutModel",
      "state": {
       "_model_module": "@jupyter-widgets/base",
       "_model_module_version": "1.2.0",
       "_model_name": "LayoutModel",
       "_view_count": null,
       "_view_module": "@jupyter-widgets/base",
       "_view_module_version": "1.2.0",
       "_view_name": "LayoutView",
       "align_content": null,
       "align_items": null,
       "align_self": null,
       "border": null,
       "bottom": null,
       "display": null,
       "flex": null,
       "flex_flow": null,
       "grid_area": null,
       "grid_auto_columns": null,
       "grid_auto_flow": null,
       "grid_auto_rows": null,
       "grid_column": null,
       "grid_gap": null,
       "grid_row": null,
       "grid_template_areas": null,
       "grid_template_columns": null,
       "grid_template_rows": null,
       "height": null,
       "justify_content": null,
       "justify_items": null,
       "left": null,
       "margin": null,
       "max_height": null,
       "max_width": null,
       "min_height": null,
       "min_width": null,
       "object_fit": null,
       "object_position": null,
       "order": null,
       "overflow": null,
       "overflow_x": null,
       "overflow_y": null,
       "padding": null,
       "right": null,
       "top": null,
       "visibility": null,
       "width": null
      }
     },
     "27376df1e4684918b708f54f3b60aea8": {
      "model_module": "@jupyter-widgets/base",
      "model_module_version": "1.2.0",
      "model_name": "LayoutModel",
      "state": {
       "_model_module": "@jupyter-widgets/base",
       "_model_module_version": "1.2.0",
       "_model_name": "LayoutModel",
       "_view_count": null,
       "_view_module": "@jupyter-widgets/base",
       "_view_module_version": "1.2.0",
       "_view_name": "LayoutView",
       "align_content": null,
       "align_items": null,
       "align_self": null,
       "border": null,
       "bottom": null,
       "display": null,
       "flex": null,
       "flex_flow": null,
       "grid_area": null,
       "grid_auto_columns": null,
       "grid_auto_flow": null,
       "grid_auto_rows": null,
       "grid_column": null,
       "grid_gap": null,
       "grid_row": null,
       "grid_template_areas": null,
       "grid_template_columns": null,
       "grid_template_rows": null,
       "height": null,
       "justify_content": null,
       "justify_items": null,
       "left": null,
       "margin": null,
       "max_height": null,
       "max_width": null,
       "min_height": null,
       "min_width": null,
       "object_fit": null,
       "object_position": null,
       "order": null,
       "overflow": null,
       "overflow_x": null,
       "overflow_y": null,
       "padding": null,
       "right": null,
       "top": null,
       "visibility": null,
       "width": null
      }
     },
     "2a486ce2fb2147af9cc104f1e69f6d8a": {
      "model_module": "@jupyter-widgets/controls",
      "model_module_version": "1.5.0",
      "model_name": "HTMLModel",
      "state": {
       "_dom_classes": [],
       "_model_module": "@jupyter-widgets/controls",
       "_model_module_version": "1.5.0",
       "_model_name": "HTMLModel",
       "_view_count": null,
       "_view_module": "@jupyter-widgets/controls",
       "_view_module_version": "1.5.0",
       "_view_name": "HTMLView",
       "description": "",
       "description_tooltip": null,
       "layout": "IPY_MODEL_2013df3c586b46a3a08d28fab4b1af4b",
       "placeholder": "​",
       "style": "IPY_MODEL_8bf65445509c4416aee8ead7d009c6c6",
       "value": "100%"
      }
     },
     "4700c8bdac45490abfe8dd110803212e": {
      "model_module": "@jupyter-widgets/controls",
      "model_module_version": "1.5.0",
      "model_name": "FloatProgressModel",
      "state": {
       "_dom_classes": [],
       "_model_module": "@jupyter-widgets/controls",
       "_model_module_version": "1.5.0",
       "_model_name": "FloatProgressModel",
       "_view_count": null,
       "_view_module": "@jupyter-widgets/controls",
       "_view_module_version": "1.5.0",
       "_view_name": "ProgressView",
       "bar_style": "success",
       "description": "",
       "description_tooltip": null,
       "layout": "IPY_MODEL_65b9c14937e944288a8f840033ce8131",
       "max": 3,
       "min": 0,
       "orientation": "horizontal",
       "style": "IPY_MODEL_afaf37150aff44a0863fd5ba22a6cb04",
       "value": 3
      }
     },
     "65b9c14937e944288a8f840033ce8131": {
      "model_module": "@jupyter-widgets/base",
      "model_module_version": "1.2.0",
      "model_name": "LayoutModel",
      "state": {
       "_model_module": "@jupyter-widgets/base",
       "_model_module_version": "1.2.0",
       "_model_name": "LayoutModel",
       "_view_count": null,
       "_view_module": "@jupyter-widgets/base",
       "_view_module_version": "1.2.0",
       "_view_name": "LayoutView",
       "align_content": null,
       "align_items": null,
       "align_self": null,
       "border": null,
       "bottom": null,
       "display": null,
       "flex": null,
       "flex_flow": null,
       "grid_area": null,
       "grid_auto_columns": null,
       "grid_auto_flow": null,
       "grid_auto_rows": null,
       "grid_column": null,
       "grid_gap": null,
       "grid_row": null,
       "grid_template_areas": null,
       "grid_template_columns": null,
       "grid_template_rows": null,
       "height": null,
       "justify_content": null,
       "justify_items": null,
       "left": null,
       "margin": null,
       "max_height": null,
       "max_width": null,
       "min_height": null,
       "min_width": null,
       "object_fit": null,
       "object_position": null,
       "order": null,
       "overflow": null,
       "overflow_x": null,
       "overflow_y": null,
       "padding": null,
       "right": null,
       "top": null,
       "visibility": null,
       "width": null
      }
     },
     "8bf65445509c4416aee8ead7d009c6c6": {
      "model_module": "@jupyter-widgets/controls",
      "model_module_version": "1.5.0",
      "model_name": "DescriptionStyleModel",
      "state": {
       "_model_module": "@jupyter-widgets/controls",
       "_model_module_version": "1.5.0",
       "_model_name": "DescriptionStyleModel",
       "_view_count": null,
       "_view_module": "@jupyter-widgets/base",
       "_view_module_version": "1.2.0",
       "_view_name": "StyleView",
       "description_width": ""
      }
     },
     "a9b4a8c9a904473d8bac0fc1e8e84fc7": {
      "model_module": "@jupyter-widgets/controls",
      "model_module_version": "1.5.0",
      "model_name": "DescriptionStyleModel",
      "state": {
       "_model_module": "@jupyter-widgets/controls",
       "_model_module_version": "1.5.0",
       "_model_name": "DescriptionStyleModel",
       "_view_count": null,
       "_view_module": "@jupyter-widgets/base",
       "_view_module_version": "1.2.0",
       "_view_name": "StyleView",
       "description_width": ""
      }
     },
     "afaf37150aff44a0863fd5ba22a6cb04": {
      "model_module": "@jupyter-widgets/controls",
      "model_module_version": "1.5.0",
      "model_name": "ProgressStyleModel",
      "state": {
       "_model_module": "@jupyter-widgets/controls",
       "_model_module_version": "1.5.0",
       "_model_name": "ProgressStyleModel",
       "_view_count": null,
       "_view_module": "@jupyter-widgets/base",
       "_view_module_version": "1.2.0",
       "_view_name": "StyleView",
       "bar_color": null,
       "description_width": ""
      }
     },
     "e95cc4e92ef448f683abe4b1967cac3c": {
      "model_module": "@jupyter-widgets/controls",
      "model_module_version": "1.5.0",
      "model_name": "HBoxModel",
      "state": {
       "_dom_classes": [],
       "_model_module": "@jupyter-widgets/controls",
       "_model_module_version": "1.5.0",
       "_model_name": "HBoxModel",
       "_view_count": null,
       "_view_module": "@jupyter-widgets/controls",
       "_view_module_version": "1.5.0",
       "_view_name": "HBoxView",
       "box_style": "",
       "children": [
        "IPY_MODEL_2a486ce2fb2147af9cc104f1e69f6d8a",
        "IPY_MODEL_4700c8bdac45490abfe8dd110803212e",
        "IPY_MODEL_129426f2384b46d2b6a8c6e21817096b"
       ],
       "layout": "IPY_MODEL_eeed8ee6289349398f72bbcb27ad5c6e"
      }
     },
     "eeed8ee6289349398f72bbcb27ad5c6e": {
      "model_module": "@jupyter-widgets/base",
      "model_module_version": "1.2.0",
      "model_name": "LayoutModel",
      "state": {
       "_model_module": "@jupyter-widgets/base",
       "_model_module_version": "1.2.0",
       "_model_name": "LayoutModel",
       "_view_count": null,
       "_view_module": "@jupyter-widgets/base",
       "_view_module_version": "1.2.0",
       "_view_name": "LayoutView",
       "align_content": null,
       "align_items": null,
       "align_self": null,
       "border": null,
       "bottom": null,
       "display": null,
       "flex": null,
       "flex_flow": null,
       "grid_area": null,
       "grid_auto_columns": null,
       "grid_auto_flow": null,
       "grid_auto_rows": null,
       "grid_column": null,
       "grid_gap": null,
       "grid_row": null,
       "grid_template_areas": null,
       "grid_template_columns": null,
       "grid_template_rows": null,
       "height": null,
       "justify_content": null,
       "justify_items": null,
       "left": null,
       "margin": null,
       "max_height": null,
       "max_width": null,
       "min_height": null,
       "min_width": null,
       "object_fit": null,
       "object_position": null,
       "order": null,
       "overflow": null,
       "overflow_x": null,
       "overflow_y": null,
       "padding": null,
       "right": null,
       "top": null,
       "visibility": null,
       "width": null
      }
     }
    },
    "version_major": 2,
    "version_minor": 0
   }
  }
 },
 "nbformat": 4,
 "nbformat_minor": 5
}
